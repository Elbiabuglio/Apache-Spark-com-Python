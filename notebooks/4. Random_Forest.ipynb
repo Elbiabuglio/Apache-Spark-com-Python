{
 "cells": [
  {
   "cell_type": "markdown",
   "metadata": {
    "id": "JHC1U0I_r9HP"
   },
   "source": [
    "# **Aula 4 - Random Forest - Regressão**"
   ]
  },
  {
   "cell_type": "markdown",
   "metadata": {
    "id": "lsLaphjGsB5k"
   },
   "source": [
    "## **O Modelo**"
   ]
  },
  {
   "cell_type": "code",
   "execution_count": null,
   "metadata": {},
   "outputs": [],
   "source": []
  },
  {
   "cell_type": "markdown",
   "metadata": {
    "id": "y5Hx2SvJsJ9x"
   },
   "source": [
    "### Random Forest\n",
    "\n",
    "<img src='https://1.bp.blogspot.com/-Ax59WK4DE8w/YK6o9bt_9jI/AAAAAAAAEQA/9KbBf9cdL6kOFkJnU39aUn4m8ydThPenwCLcBGAsYHQ/s0/Random%2BForest%2B03.gif'>"
   ]
  },
  {
   "cell_type": "markdown",
   "metadata": {
    "id": "BsjP6Rz-sRkn"
   },
   "source": [
    "## **Ajuste e Previsão**\n",
    "\n",
    "<font size=2>**Documentação:**</font>\n",
    "<font size=2>[RandomForestRegressor](https://spark.apache.org/docs/latest/api/python/reference/api/pyspark.ml.regression.RandomForestRegressor.html)</font>"
   ]
  },
  {
   "cell_type": "code",
   "execution_count": null,
   "metadata": {
    "id": "khXRh28QsEvE"
   },
   "outputs": [],
   "source": [
    "from pyspark.ml.regression import RandomForestRegressor"
   ]
  },
  {
   "cell_type": "code",
   "execution_count": null,
   "metadata": {
    "id": "nueVJvuZUuuf"
   },
   "outputs": [],
   "source": [
    "rfr = RandomForestRegressor(seed=101, maxDepth=7, numTrees=10)"
   ]
  },
  {
   "cell_type": "code",
   "execution_count": null,
   "metadata": {
    "id": "xWHBs58DUuY7"
   },
   "outputs": [],
   "source": [
    "modelo_rfr = rfr.fit(treino)"
   ]
  },
  {
   "cell_type": "code",
   "execution_count": null,
   "metadata": {
    "id": "YWAuqBJOsuQh"
   },
   "outputs": [],
   "source": [
    "previsoes_rfr_treino = modelo_rfr.transform(treino)"
   ]
  },
  {
   "cell_type": "code",
   "execution_count": null,
   "metadata": {
    "colab": {
     "base_uri": "https://localhost:8080/"
    },
    "id": "HKc026ans0JR",
    "outputId": "00760d70-4830-4ab3-8a02-2758026ad535"
   },
   "outputs": [
    {
     "name": "stdout",
     "output_type": "stream",
     "text": [
      "+--------------------+--------+------------------+\n",
      "|            features|   label|        prediction|\n",
      "+--------------------+--------+------------------+\n",
      "|(17,[0,1,2,3,4,5,...|260000.0|390218.33742322924|\n",
      "|(17,[0,1,2,3,4,5,...|500000.0| 510060.6595782173|\n",
      "|(17,[0,1,2,3,4,5,...|308615.0|360766.74127901345|\n",
      "|(17,[0,1,2,3,4,5,...|279000.0|360766.74127901345|\n",
      "|(17,[0,1,2,3,4,5,...|545000.0|  396904.928725379|\n",
      "|(17,[0,1,2,3,4,5,...|449000.0|  492913.652312712|\n",
      "|(17,[0,1,2,3,4,5,...|479000.0|433807.13396085694|\n",
      "|(17,[0,1,2,3,4,5,...|420000.0| 664440.4325776277|\n",
      "|(17,[0,1,2,3,4,5,...|265000.0|479615.50733929937|\n",
      "|(17,[0,1,2,3,4,5,...|490000.0| 816123.0337632223|\n",
      "|(17,[0,1,2,3,4,5,...|650000.0| 640247.1517314625|\n",
      "|(17,[0,1,2,3,4,5,...|379900.0|403131.21721626434|\n",
      "|(17,[0,1,2,3,4,5,...|449000.0|403131.21721626434|\n",
      "|(17,[0,1,2,3,4,5,...|190000.0| 356904.3339549792|\n",
      "|(17,[0,1,2,3,4,5,...|896000.0| 547828.3209496561|\n",
      "|(17,[0,1,2,3,4,5,...|679000.0| 893791.6624292185|\n",
      "|(17,[0,1,2,3,4,5,...|620000.0| 526635.5362588142|\n",
      "|(17,[0,1,2,3,4,5,...|727000.0| 526635.5362588142|\n",
      "|(17,[0,1,2,3,4,5,...|880000.0| 526635.5362588142|\n",
      "|(17,[0,1,2,3,4,5,...|435000.0| 356904.3339549792|\n",
      "+--------------------+--------+------------------+\n",
      "only showing top 20 rows\n",
      "\n"
     ]
    }
   ],
   "source": [
    "previsoes_rfr_treino.show()"
   ]
  },
  {
   "cell_type": "markdown",
   "metadata": {
    "id": "HAvSRlDos6In"
   },
   "source": [
    "## **Métricas**"
   ]
  },
  {
   "cell_type": "code",
   "execution_count": null,
   "metadata": {
    "colab": {
     "base_uri": "https://localhost:8080/"
    },
    "id": "MwazWWMmtAH0",
    "outputId": "4728dc40-ee7e-4bb1-b30e-5e81056fa93d"
   },
   "outputs": [
    {
     "name": "stdout",
     "output_type": "stream",
     "text": [
      "0.8017561510914318\n",
      "623922.4426224458\n"
     ]
    }
   ],
   "source": [
    "print(evaluator.evaluate(previsoes_rfr_treino, {evaluator.metricName: \"r2\"}))\n",
    "print(evaluator.evaluate(previsoes_rfr_treino, {evaluator.metricName: \"rmse\"}))"
   ]
  },
  {
   "cell_type": "code",
   "execution_count": null,
   "metadata": {
    "id": "iZDKxVLWs5Sh"
   },
   "outputs": [],
   "source": [
    "previsoes_rfr_teste = modelo_rfr.transform(teste)"
   ]
  },
  {
   "cell_type": "code",
   "execution_count": null,
   "metadata": {
    "colab": {
     "base_uri": "https://localhost:8080/"
    },
    "id": "weEVz1zwtU4k",
    "outputId": "2049a2db-b3d7-47ea-b93f-2192d0b382c3"
   },
   "outputs": [
    {
     "name": "stdout",
     "output_type": "stream",
     "text": [
      "+--------------------+---------+------------------+\n",
      "|            features|    label|        prediction|\n",
      "+--------------------+---------+------------------+\n",
      "|(17,[0,1,2,3,4,5,...| 199000.0| 350678.0454640939|\n",
      "|(17,[0,1,2,3,4,5,...| 350000.0| 792518.9735011571|\n",
      "|(17,[0,1,2,3,4,5,...| 340000.0|479615.50733929937|\n",
      "|(17,[0,1,2,3,4,5,...| 430000.0| 526635.5362588142|\n",
      "|(17,[0,1,2,3,4,5,...| 600000.0| 526635.5362588142|\n",
      "|(17,[0,1,2,3,4,5,...| 439000.0| 550795.8732599718|\n",
      "|(17,[0,1,2,3,4,5,...| 333000.0| 356904.3339549792|\n",
      "|(17,[0,1,2,3,4,5,...| 948000.0| 640247.1517314625|\n",
      "|(17,[0,1,2,3,4,5,...| 459600.0| 356904.3339549792|\n",
      "|(17,[0,1,2,3,4,5,...| 447600.0| 356904.3339549792|\n",
      "|(17,[0,1,2,3,4,5,...| 360000.0| 356904.3339549792|\n",
      "|(17,[0,1,2,3,4,5,...| 407000.0|  492913.652312712|\n",
      "|(17,[0,1,2,3,4,5,...| 310000.0|412580.35636663495|\n",
      "|(17,[0,1,2,3,4,5,...|1400000.0| 1375418.570408164|\n",
      "|(17,[0,1,2,3,4,5,...|1180000.0| 1375418.570408164|\n",
      "|(17,[0,1,2,3,4,5,...|1299500.0|1111896.8209940076|\n",
      "|(17,[0,1,2,3,4,5,...| 296100.0| 352263.6404621517|\n",
      "|(17,[0,1,2,3,4,5,...| 285000.0| 352263.6404621517|\n",
      "|(17,[0,1,2,3,4,5,...| 679720.0| 580272.9453894051|\n",
      "|(17,[0,1,2,3,4,5,...| 509150.0| 508101.1046743891|\n",
      "+--------------------+---------+------------------+\n",
      "only showing top 20 rows\n",
      "\n"
     ]
    }
   ],
   "source": [
    "previsoes_rfr_teste.show()"
   ]
  },
  {
   "cell_type": "code",
   "execution_count": null,
   "metadata": {
    "colab": {
     "base_uri": "https://localhost:8080/"
    },
    "id": "G5PBUl5jtYcw",
    "outputId": "1ea7d1e1-203e-4649-f50a-66013e59e504"
   },
   "outputs": [
    {
     "name": "stdout",
     "output_type": "stream",
     "text": [
      "Random Forest Regression\n",
      "==============================\n",
      "Dados de Treino\n",
      "==============================\n",
      "R²: 0.801756\n",
      "RMSE: 623922.442622\n",
      "\n",
      "==============================\n",
      "Dados de Teste\n",
      "==============================\n",
      "R²: 0.790530\n",
      "RMSE: 626981.467738\n"
     ]
    }
   ],
   "source": [
    "print('Random Forest Regression')\n",
    "print(\"=\"*30)\n",
    "print(\"Dados de Treino\")\n",
    "print(\"=\"*30)\n",
    "print(\"R²: %f\" % evaluator.evaluate(previsoes_rfr_treino, {evaluator.metricName: \"r2\"}))\n",
    "print(\"RMSE: %f\" % evaluator.evaluate(previsoes_rfr_treino, {evaluator.metricName: \"rmse\"}))\n",
    "print(\"\")\n",
    "print(\"=\"*30)\n",
    "print(\"Dados de Teste\")\n",
    "print(\"=\"*30)\n",
    "print(\"R²: %f\" % evaluator.evaluate(previsoes_rfr_teste, {evaluator.metricName: \"r2\"}))\n",
    "print(\"RMSE: %f\" % evaluator.evaluate(previsoes_rfr_teste, {evaluator.metricName: \"rmse\"}))"
   ]
  }
 ],
 "metadata": {
  "colab": {
   "collapsed_sections": [],
   "name": "Spark_regressão.ipynb",
   "provenance": [],
   "toc_visible": true
  },
  "kernelspec": {
   "display_name": "Python 3",
   "language": "python",
   "name": "python3"
  },
  "language_info": {
   "codemirror_mode": {
    "name": "ipython",
    "version": 3
   },
   "file_extension": ".py",
   "mimetype": "text/x-python",
   "name": "python",
   "nbconvert_exporter": "python",
   "pygments_lexer": "ipython3",
   "version": "3.8.8"
  }
 },
 "nbformat": 4,
 "nbformat_minor": 0
}
