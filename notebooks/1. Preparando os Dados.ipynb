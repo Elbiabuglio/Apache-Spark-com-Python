{
 "cells": [
  {
   "cell_type": "markdown",
   "metadata": {
    "id": "BwhP2rhUGI_k"
   },
   "source": [
    "# **Aula 1 - Preparando os Dados**"
   ]
  },
  {
   "cell_type": "markdown",
   "metadata": {
    "id": "BAWE5PSLMmSX"
   },
   "source": [
    "## **Preparando o Ambiente**\n",
    "\n",
    "### [PySpark](https://spark.apache.org/docs/latest/api/python/index.html)\n",
    "\n",
    "PySpark é uma interface para Apache Spark em Python. Ele não apenas permite que você escreva aplicativos Spark usando APIs Python, mas também fornece o *shell* PySpark para analisar interativamente seus dados em um ambiente distribuído. O PySpark oferece suporte à maioria dos recursos do Spark, como Spark SQL, DataFrame, Streaming, MLlib (Machine Learning) e Spark Core.\n",
    "\n",
    "<center><img src=\"https://caelum-online-public.s3.amazonaws.com/2273-introducao-spark/01/img-001.png\"/></center>\n",
    "\n",
    "#### **Spark SQL e DataFrame**\n",
    "\n",
    "Spark SQL é um módulo Spark para processamento de dados estruturados. Ele fornece uma abstração de programação chamada DataFrame e também pode atuar como mecanismo de consulta SQL distribuído.\n",
    "\n",
    "#### **Spark Streaming**\n",
    "\n",
    "Executando em cima do Spark, o recurso de *streaming* no Apache Spark possibilita o uso de poderosas aplicações interativas e analíticas em *streaming* e dados históricos, enquanto herda a facilidade de uso do Spark e as características de tolerância a falhas.\n",
    "\n",
    "#### **Spark MLlib**\n",
    "\n",
    "Construído sobre o Spark, MLlib é uma biblioteca de aprendizado de máquina escalonável que fornece um conjunto uniforme de APIs de alto nível que ajudam os usuários a criar e ajustar *pipelines* de aprendizado de máquina práticos.\n",
    "\n",
    "#### **Spark Core**\n",
    "\n",
    "Spark Core é o mecanismo de execução geral subjacente para a plataforma Spark sobre o qual todas as outras funcionalidades são construídas. Ele fornece um RDD (*Resilient Distributed Dataset*) e recursos de computação na memória."
   ]
  },
  {
   "cell_type": "code",
   "execution_count": null,
   "metadata": {
    "colab": {
     "base_uri": "https://localhost:8080/"
    },
    "id": "4Gs-5LKuvWmE",
    "outputId": "4e8aa4ff-c9bd-4d5c-aa9b-5aa2460eb5b2"
   },
   "outputs": [],
   "source": [
    "!pip install pyspark"
   ]
  },
  {
   "cell_type": "markdown",
   "metadata": {
    "id": "43dP4NVZOEI2"
   },
   "source": [
    "### [SparkSession](https://spark.apache.org/docs/latest/api/python/reference/api/pyspark.sql.SparkSession.html)\n",
    "\n",
    "O ponto de entrada para programar o Spark com a API Dataset e DataFrame.\n",
    "\n",
    "Uma SparkSession pode ser utilizada para criar DataFrames, registrar DataFrames como tabelas, executar consultas SQL em tabelas, armazenar em cache e ler arquivos parquet. Para criar uma SparkSession, use o seguinte padrão de construtor:"
   ]
  },
  {
   "cell_type": "code",
   "execution_count": null,
   "metadata": {
    "colab": {
     "base_uri": "https://localhost:8080/",
     "height": 219
    },
    "id": "1_WixBVIvvB-",
    "outputId": "8fbdd24c-eb5a-4249-cd82-a3b4cacdca59"
   },
   "outputs": [],
   "source": [
    "from pyspark.sql import SparkSession\n",
    "\n",
    "spark = SparkSession.builder \\\n",
    "    .master('local[*]') \\\n",
    "    .appName(\"Regressão com Spark\") \\\n",
    "    .getOrCreate()\n",
    "\n",
    "spark"
   ]
  },
  {
   "cell_type": "markdown",
   "metadata": {
    "id": "BOQSXCsB-XJ4"
   },
   "source": [
    "**Carregamento dos Dados**"
   ]
  },
  {
   "cell_type": "markdown",
   "metadata": {
    "id": "h36RrRMuPTet"
   },
   "source": [
    "### Montando o drive"
   ]
  },
  {
   "cell_type": "code",
   "execution_count": null,
   "metadata": {
    "id": "bItkwybT-BOG"
   },
   "outputs": [],
   "source": [
    "dados = spark.read.json(r\"C:\\Users\\Note reserva\\Desktop\\Apache Spark com Python\\Spark_trabalhando_com_regressão\\data\\imoveis.json\")\n"
   ]
  },
  {
   "cell_type": "code",
   "execution_count": null,
   "metadata": {
    "colab": {
     "base_uri": "https://localhost:8080/"
    },
    "id": "WMx7nLWW-BIV",
    "outputId": "94e85adb-56a2-4a04-f665-734d82bfc86f"
   },
   "outputs": [],
   "source": [
    "dados"
   ]
  },
  {
   "cell_type": "code",
   "execution_count": null,
   "metadata": {
    "colab": {
     "base_uri": "https://localhost:8080/"
    },
    "id": "DyXF17Oo-BCw",
    "outputId": "9ce166ba-082f-46fc-99f5-869ae5bd781c"
   },
   "outputs": [],
   "source": [
    "dados.show(truncate=False)"
   ]
  },
  {
   "cell_type": "code",
   "execution_count": null,
   "metadata": {
    "colab": {
     "base_uri": "https://localhost:8080/"
    },
    "id": "wOXJOUgGpi9z",
    "outputId": "4f23c568-d848-4e31-d851-44187b833dbf"
   },
   "outputs": [],
   "source": [
    "dados.count()"
   ]
  },
  {
   "cell_type": "markdown",
   "metadata": {
    "id": "blFAMaSBVV2u"
   },
   "source": [
    "## **Seleção de *Features***"
   ]
  },
  {
   "cell_type": "code",
   "execution_count": null,
   "metadata": {
    "colab": {
     "base_uri": "https://localhost:8080/"
    },
    "id": "teee6m27l-8e",
    "outputId": "043ff2c1-503b-4a4d-ba08-a3af8214dfe0"
   },
   "outputs": [],
   "source": [
    "dados.printSchema()"
   ]
  },
  {
   "cell_type": "code",
   "execution_count": null,
   "metadata": {
    "colab": {
     "base_uri": "https://localhost:8080/"
    },
    "id": "tNEl8-Pg-A8f",
    "outputId": "f9151999-df44-4baa-c066-ff24ba76ac78"
   },
   "outputs": [],
   "source": [
    "dados\\\n",
    "    .select('ident.customerID', 'listing.*')\\\n",
    "    .show(truncate=False)"
   ]
  },
  {
   "cell_type": "code",
   "execution_count": null,
   "metadata": {
    "colab": {
     "base_uri": "https://localhost:8080/"
    },
    "id": "gfuhMBNzNOPS",
    "outputId": "9490cea8-7666-47fd-fbe5-c6c9899616cf"
   },
   "outputs": [],
   "source": [
    "dados\\\n",
    "    .select('ident.customerID', 'listing.types.*', 'listing.features.*', 'listing.address.*', 'listing.prices.price', 'listing.prices.tax.*')\\\n",
    "    .show(truncate=False)"
   ]
  },
  {
   "cell_type": "code",
   "execution_count": null,
   "metadata": {
    "colab": {
     "base_uri": "https://localhost:8080/"
    },
    "id": "5pxKC1S6dK1w",
    "outputId": "eb8f6698-42b3-4dac-a77d-2d0b07a09dbd"
   },
   "outputs": [],
   "source": [
    "dados\\\n",
    "    .select('ident.customerID', 'listing.types.*', 'listing.features.*', 'listing.address.*', 'listing.prices.price', 'listing.prices.tax.*')\\\n",
    "    .drop('city', 'location', 'totalAreas')\\\n",
    "    .show(truncate=False)"
   ]
  },
  {
   "cell_type": "code",
   "execution_count": null,
   "metadata": {
    "id": "WJ_3uhm5ggGa"
   },
   "outputs": [],
   "source": [
    "dataset = dados\\\n",
    "    .select('ident.customerID', 'listing.types.*', 'listing.features.*', 'listing.address.*', 'listing.prices.price', 'listing.prices.tax.*')\\\n",
    "    .drop('city', 'location', 'totalAreas')"
   ]
  },
  {
   "cell_type": "markdown",
   "metadata": {
    "id": "FLn2a7ym7MLp"
   },
   "source": [
    "## **Tratamento de Dados**"
   ]
  },
  {
   "cell_type": "code",
   "execution_count": null,
   "metadata": {
    "colab": {
     "base_uri": "https://localhost:8080/"
    },
    "id": "E_Hs2oXj9-pq",
    "outputId": "fbd3dadb-7885-47b5-8dd5-e74a038d4d0b"
   },
   "outputs": [],
   "source": [
    "dataset.printSchema()"
   ]
  },
  {
   "cell_type": "code",
   "execution_count": null,
   "metadata": {
    "id": "M2Qx3VnFwLth"
   },
   "outputs": [],
   "source": [
    "from pyspark.sql.types import IntegerType, DoubleType"
   ]
  },
  {
   "cell_type": "code",
   "execution_count": null,
   "metadata": {
    "colab": {
     "base_uri": "https://localhost:8080/"
    },
    "id": "vsIC1pc5vmGd",
    "outputId": "09e49bfe-ba4a-4e4d-9575-befe3f61b360"
   },
   "outputs": [],
   "source": [
    "dataset\\\n",
    "    .withColumn('usableAreas', dataset['usableAreas'].cast(IntegerType()))\\\n",
    "    .withColumn('price', dataset['price'].cast(DoubleType()))\\\n",
    "    .withColumn('condo', dataset['condo'].cast(DoubleType()))\\\n",
    "    .withColumn('iptu', dataset['iptu'].cast(DoubleType()))\\\n",
    "    .printSchema()"
   ]
  },
  {
   "cell_type": "code",
   "execution_count": null,
   "metadata": {
    "id": "HVfjs5MBw5-a"
   },
   "outputs": [],
   "source": [
    "dataset = dataset\\\n",
    "    .withColumn('usableAreas', dataset['usableAreas'].cast(IntegerType()))\\\n",
    "    .withColumn('price', dataset['price'].cast(DoubleType()))\\\n",
    "    .withColumn('condo', dataset['condo'].cast(DoubleType()))\\\n",
    "    .withColumn('iptu', dataset['iptu'].cast(DoubleType()))"
   ]
  },
  {
   "cell_type": "code",
   "execution_count": null,
   "metadata": {
    "colab": {
     "base_uri": "https://localhost:8080/"
    },
    "id": "Z5cSmXRCvmEC",
    "outputId": "3d012863-5857-4822-e5f9-4fe5ed4da7a2"
   },
   "outputs": [],
   "source": [
    "dataset.show()"
   ]
  },
  {
   "cell_type": "code",
   "execution_count": null,
   "metadata": {
    "colab": {
     "base_uri": "https://localhost:8080/"
    },
    "id": "4PxmiCyhvlzQ",
    "outputId": "f33f1b61-8b19-47cf-f384-0a8b9d76934d"
   },
   "outputs": [],
   "source": [
    "dataset\\\n",
    "    .select('usage')\\\n",
    "    .groupBy('usage')\\\n",
    "    .count()\\\n",
    "    .show()"
   ]
  },
  {
   "cell_type": "code",
   "execution_count": null,
   "metadata": {
    "id": "e0OmBS_D9ggH"
   },
   "outputs": [],
   "source": [
    "dataset = dataset\\\n",
    "    .select('*')\\\n",
    "    .where('usage==\"Residencial\"')"
   ]
  },
  {
   "cell_type": "code",
   "execution_count": null,
   "metadata": {
    "colab": {
     "base_uri": "https://localhost:8080/"
    },
    "id": "E_ENJ1rhvl1u",
    "outputId": "5b2c78cd-4973-403f-a7ba-2c8658d677ba"
   },
   "outputs": [],
   "source": [
    "dataset\\\n",
    "    .select('unit')\\\n",
    "    .groupBy('unit')\\\n",
    "    .count()\\\n",
    "    .show()"
   ]
  },
  {
   "cell_type": "code",
   "execution_count": null,
   "metadata": {
    "colab": {
     "base_uri": "https://localhost:8080/"
    },
    "id": "UAvjzRnyiCl5",
    "outputId": "03f677e8-84a0-477d-a978-57950f879a6c"
   },
   "outputs": [],
   "source": [
    "dataset\\\n",
    "    .select('zone')\\\n",
    "    .groupBy('zone')\\\n",
    "    .count()\\\n",
    "    .show()"
   ]
  },
  {
   "cell_type": "markdown",
   "metadata": {
    "id": "lA0QydxEij3D"
   },
   "source": [
    "### Tratamento para dados faltantes\n",
    "\n",
    "[Functions](https://spark.apache.org/docs/latest/api/python/reference/pyspark.sql.html#functions)\n"
   ]
  },
  {
   "cell_type": "code",
   "execution_count": null,
   "metadata": {
    "id": "yhKW5kLeUe28"
   },
   "outputs": [],
   "source": [
    "from pyspark.sql import functions as f"
   ]
  },
  {
   "cell_type": "code",
   "execution_count": null,
   "metadata": {
    "colab": {
     "base_uri": "https://localhost:8080/"
    },
    "id": "iyCoitzEUoB0",
    "outputId": "875e11ba-9dd8-4642-a5f4-1ec5c8822ee5"
   },
   "outputs": [],
   "source": [
    "dataset.show()"
   ]
  },
  {
   "cell_type": "code",
   "execution_count": null,
   "metadata": {
    "colab": {
     "base_uri": "https://localhost:8080/"
    },
    "id": "19VOMNHcWBxr",
    "outputId": "9aaa3bf0-031c-407e-f925-a28888312790"
   },
   "outputs": [],
   "source": [
    "dataset\\\n",
    "    .select([f.count(f.when(f.isnan(c) | f.isnull(c), True)).alias(c) for c in dataset.columns])\\\n",
    "    .show()"
   ]
  },
  {
   "cell_type": "code",
   "execution_count": null,
   "metadata": {
    "colab": {
     "base_uri": "https://localhost:8080/"
    },
    "id": "tJT-HEZoUwYg",
    "outputId": "46c7ebeb-cc42-4eca-bd79-ebd743ebfc40"
   },
   "outputs": [],
   "source": [
    "dataset\\\n",
    "    .select('*')\\\n",
    "    .na\\\n",
    "    .fill(0)\\\n",
    "    .show()"
   ]
  },
  {
   "cell_type": "code",
   "execution_count": null,
   "metadata": {
    "id": "ygZK2UCUipRf"
   },
   "outputs": [],
   "source": [
    "dataset = dataset\\\n",
    "    .select('*')\\\n",
    "    .na\\\n",
    "    .fill(0)"
   ]
  },
  {
   "cell_type": "code",
   "execution_count": null,
   "metadata": {
    "colab": {
     "base_uri": "https://localhost:8080/"
    },
    "id": "x6os3-2-YsTp",
    "outputId": "d5cfdb62-ce1a-44ec-edb7-4831b2b335df"
   },
   "outputs": [],
   "source": [
    "dataset\\\n",
    "    .select([f.count(f.when(f.isnan(c) | f.isnull(c), True)).alias(c) for c in dataset.columns])\\\n",
    "    .show()"
   ]
  },
  {
   "cell_type": "code",
   "execution_count": null,
   "metadata": {
    "colab": {
     "base_uri": "https://localhost:8080/"
    },
    "id": "psIu0EXiiPFS",
    "outputId": "23c9c321-3a69-4b2b-a855-0dcd1f43fe33"
   },
   "outputs": [],
   "source": [
    "dataset\\\n",
    "    .select('zone')\\\n",
    "    .groupBy('zone')\\\n",
    "    .count()\\\n",
    "    .show()"
   ]
  },
  {
   "cell_type": "code",
   "execution_count": null,
   "metadata": {
    "id": "-PalLCBPii5R"
   },
   "outputs": [],
   "source": [
    "dataset = dataset\\\n",
    "    .where(f.col('zone') != '')"
   ]
  }
 ],
 "metadata": {
  "colab": {
   "collapsed_sections": [],
   "name": "Spark_regressão.ipynb",
   "provenance": [],
   "toc_visible": true
  },
  "kernelspec": {
   "display_name": "base",
   "language": "python",
   "name": "python3"
  },
  "language_info": {
   "codemirror_mode": {
    "name": "ipython",
    "version": 3
   },
   "file_extension": ".py",
   "mimetype": "text/x-python",
   "name": "python",
   "nbconvert_exporter": "python",
   "pygments_lexer": "ipython3",
   "version": "3.12.7"
  }
 },
 "nbformat": 4,
 "nbformat_minor": 0
}
